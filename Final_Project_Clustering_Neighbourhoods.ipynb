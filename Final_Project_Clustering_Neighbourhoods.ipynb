{
 "cells": [
  {
   "cell_type": "markdown",
   "id": "0b02c17e",
   "metadata": {},
   "source": [
    "# Libraries"
   ]
  },
  {
   "cell_type": "code",
   "execution_count": 64,
   "id": "157f2f7d",
   "metadata": {},
   "outputs": [
    {
     "name": "stdout",
     "output_type": "stream",
     "text": [
      "Libraries imported.\n"
     ]
    }
   ],
   "source": [
    "import pandas as pd\n",
    "pd.set_option('display.max_columns', None)\n",
    "pd.set_option('display.max_rows', None)\n",
    "\n",
    "import numpy as np\n",
    "import json\n",
    "\n",
    "from geopy.geocoders import Nominatim\n",
    "\n",
    "import requests\n",
    "\n",
    "from pandas.io.json import json_normalize\n",
    "\n",
    "import matplotlib.cm as cm             \n",
    "import matplotlib.colors as colors\n",
    "\n",
    "from sklearn.cluster import KMeans\n",
    "\n",
    "import folium\n",
    "\n",
    "from bs4 import BeautifulSoup as bs\n",
    "from IPython.display import display_html\n",
    "import urllib\n",
    "\n",
    "print(\"Libraries imported.\")"
   ]
  },
  {
   "cell_type": "markdown",
   "id": "86b3c868",
   "metadata": {},
   "source": [
    "# Extract Postal Codes"
   ]
  },
  {
   "cell_type": "code",
   "execution_count": null,
   "id": "99c44539",
   "metadata": {},
   "outputs": [],
   "source": [
    "url = 'https://en.wikipedia.org/wiki/List_of_postal_codes_of_Canada:_M'\n",
    "html_table_data = requests.get(url).text \n",
    "\n",
    "soup = bs(html_table_data, 'html5lib')\n",
    "df= pd.DataFrame(columns = ['PostalCode','Borough','Neighbourhood'])\n",
    "tb_rows = soup.find('table').tbody.find_all('tr')\n",
    "\n",
    "for rows in tb_rows :\n",
    "    for column in rows.find_all('td') :\n",
    "        if column.span.text != 'Not assigned' :\n",
    "            span  = column.span.text.split('(')\n",
    "            df = df.append({'PostalCode' : column.b.text,\n",
    "                              'Borough' : span[0],\n",
    "                              'Neighbourhood' : span[1][:-1]}, ignore_index=True)\n",
    "\n",
    "df['Borough']=df['Borough'].replace({'Downtown TorontoStn A PO Boxes25 The Esplanade':'Downtown Toronto Stn A',\n",
    "                                             'East TorontoBusiness reply mail Processing Centre969 Eastern':'East Toronto Business',\n",
    "                                             'EtobicokeNorthwest':'Etobicoke Northwest','East YorkEast Toronto':'East York/East Toronto',\n",
    "                                             'MississaugaCanada Post Gateway Processing Centre':'Mississauga'})\n",
    "\n",
    "df = df.sort_values('PostalCode').reset_index(drop = True)\n",
    "df.head(103)"
   ]
  },
  {
   "cell_type": "markdown",
   "id": "94e63bee",
   "metadata": {},
   "source": [
    "# Extract Latitude and Longitude of Postal Codes and Merge with Table Data"
   ]
  },
  {
   "cell_type": "code",
   "execution_count": null,
   "id": "e9829e1b",
   "metadata": {},
   "outputs": [],
   "source": [
    "import wget\n",
    "!wget -O GeoSpatial_Data https://cf-courses-data.s3.us.cloud-object-storage.appdomain.cloud/IBMDeveloperSkillsNetwork-DS0701EN-SkillsNetwork/labs_v1/Geospatial_Coordinates.csv\n",
    "geospatial_data = pd.read_csv('GeoSpatial_Data')\n",
    "geospatial_data.columns = ['PostalCode', 'Latitude', 'Longitude']\n",
    "geospatial_data.head()"
   ]
  },
  {
   "cell_type": "code",
   "execution_count": null,
   "metadata": {},
   "outputs": [],
   "source": [
    "df = df.join(geospatial_data.set_index('PostalCode'), on = 'PostalCode')\n",
    "df.head(103)"
   ]
  },
  {
   "cell_type": "markdown",
   "id": "aa832d65",
   "metadata": {},
   "source": [
    "# Create Clustered Map of Toronto Neighbourhoods"
   ]
  },
  {
   "cell_type": "code",
   "execution_count": null,
   "id": "e0d3d17f",
   "metadata": {},
   "outputs": [],
   "source": [
    "df.Borough.value_counts()"
   ]
  },
  {
   "cell_type": "code",
   "execution_count": null,
   "id": "44a514e0",
   "metadata": {},
   "outputs": [],
   "source": [
    "borough_array = ['North York', 'York ', 'East York', 'Downtown Toronto', 'Central Toronto', 'West Toronto', 'East Toronto', 'Downtown Toronto Stn A' , 'East Toronto Business', 'East York/East Toronto', 'Scarborough',\n",
    "                 'Etobicoke', 'Etobicoke Northwest', \"Queen's Park\", 'Mississauga']\n",
    "\n",
    "# now let's make changes in the dataframe accordingly\n",
    "df1 = df.copy()\n",
    "for boroughs in borough_array :\n",
    "    for borough in boroughs :\n",
    "        df1.replace(borough, str(boroughs), inplace = True)\n",
    "\n",
    "colors_array = np.empty(15, dtype = str)\n",
    "colors_array.fill('blue')\n",
    "\n",
    "# create map of Toronto using latitude and longitude values\n",
    "map_toronto = folium.Map(location=[latitude, longitude], zoom_start=10)\n",
    "\n",
    "# add markers to map\n",
    "for borough, color in zip(borough_array, colors_array) :\n",
    "    df2 = df1[df1.Borough == str(borough)]\n",
    "    for lat, lng, borough, neighborhood in zip(df2['Latitude'], df2['Longitude'], df2['Borough'], df2['Neighbourhood']):\n",
    "        label = '{}, {}'.format(neighborhood, borough)\n",
    "        label = folium.Popup(label, parse_html=True)\n",
    "        folium.CircleMarker(\n",
    "            [lat, lng],\n",
    "            radius = 5,\n",
    "            popup = label,\n",
    "            color = 'blue',\n",
    "            fill = True,\n",
    "            fill_color = 'blue',\n",
    "            fill_opacity = 1,\n",
    "            parse_html = False).add_to(map_toronto)  \n",
    "    \n",
    "map_toronto\n"
   ]
  },
  {
   "cell_type": "code",
   "execution_count": null,
   "id": "a123846c",
   "metadata": {},
   "outputs": [],
   "source": []
  }
 ],
 "metadata": {
  "kernelspec": {
   "display_name": "Python 3 (ipykernel)",
   "language": "python",
   "name": "python3"
  },
  "language_info": {
   "codemirror_mode": {
    "name": "ipython",
    "version": 3
   },
   "file_extension": ".py",
   "mimetype": "text/x-python",
   "name": "python",
   "nbconvert_exporter": "python",
   "pygments_lexer": "ipython3",
   "version": "3.9.7"
  }
 },
 "nbformat": 4,
 "nbformat_minor": 5
}
